{
 "cells": [
  {
   "cell_type": "code",
   "execution_count": 2,
   "metadata": {},
   "outputs": [],
   "source": [
    "import pandas as pd\n",
    "import numpy as np\n",
    "from datetime import datetime\n",
    "import time"
   ]
  },
  {
   "cell_type": "markdown",
   "metadata": {},
   "source": [
    "### resize 1"
   ]
  },
  {
   "cell_type": "code",
   "execution_count": 6,
   "metadata": {},
   "outputs": [
    {
     "name": "stdout",
     "output_type": "stream",
     "text": [
      "6300\n",
      "Mean SB = 0.00015925973412028605\n",
      "Mean SW = 1.042688233515947\n",
      "Mean lda = 0.00012906901428138791\n",
      "\n",
      "\n",
      "\n",
      "Var SB = 6.002991084146108e-08\n",
      "Var SW = 0.34991761411462097\n",
      "Var lda = 2.0567374570042518e-08\n",
      "\n",
      "\n",
      "\n",
      "Max lda = 0.0009407185709005552\n",
      "Max SB = 0.0032844010123204968\n",
      "Min, Max SW = (0.338866, 6.778423)\n",
      "Elapsed time = 44 hour 57 min 9 sec\n"
     ]
    }
   ],
   "source": [
    "resize = 1\n",
    "lda = pd.read_csv('./caltech_resize%d_ratio0.100000_count300_gvn10_lda_log.txt'%(resize), sep='\\t', names=['timestamp', 'value'])\n",
    "sb = pd.read_csv('./caltech_resize%d_ratio0.100000_count300_gvn10_SB_log.txt'%(resize), sep='\\t', names=['timestamp', 'value'])\n",
    "sw = pd.read_csv('./caltech_resize%d_ratio0.100000_count300_gvn10_SW_log.txt'%(resize), sep='\\t', names=['timestamp', 'value'])\n",
    "\n",
    "min_len = min(lda.shape[0], sb.shape[0], sw.shape[0])\n",
    "print(min_len)\n",
    "start_idx = 0\n",
    "end_idx = 5000\n",
    "\n",
    "random_idx = np.random.choice(min_len, 5000, replace=False)\n",
    "print('Mean SB =',sb['value'][:end_idx].mean())\n",
    "print('Mean SW =',sw['value'][:end_idx].mean())\n",
    "print('Mean lda =',lda['value'][:end_idx].mean())\n",
    "print('\\n\\n')\n",
    "print('Var SB =',sb['value'][:end_idx].var())\n",
    "print('Var SW =',sw['value'][:end_idx].var())\n",
    "print('Var lda =',lda['value'][:end_idx].var())\n",
    "print('\\n\\n')\n",
    "\n",
    "print('Max lda =',lda['value'][:end_idx].max())\n",
    "print('Max SB =',sb['value'][:end_idx].max())\n",
    "print('Min, Max SW = (%.6f, %.6f)' % (sw['value'][:end_idx].min(), sw['value'][:end_idx].max()))\n",
    "\n",
    "t_tuple1 = time.strptime(sb['timestamp'][0][:-2].split('.')[0], '%Y-%m-%d %H:%M:%S')\n",
    "t_tuple2 = time.strptime(sb['timestamp'][5000][:-2].split('.')[0], '%Y-%m-%d %H:%M:%S')\n",
    "time1 = time.mktime(t_tuple1)\n",
    "time2 = time.mktime(t_tuple2)\n",
    "\n",
    "ctime = time2 - time1\n",
    "print('Elapsed time = %d hour %d min %d sec' % (ctime // 3600, (ctime % 3600) // 60, ctime % 60))"
   ]
  },
  {
   "cell_type": "markdown",
   "metadata": {},
   "source": [
    "### resize2"
   ]
  },
  {
   "cell_type": "code",
   "execution_count": 7,
   "metadata": {},
   "outputs": [
    {
     "name": "stdout",
     "output_type": "stream",
     "text": [
      "8420\n",
      "Mean SB = 0.00015051579890672988\n",
      "Mean SW = 1.0370791808636608\n",
      "Mean lda = 0.00012507840318513194\n",
      "\n",
      "\n",
      "\n",
      "Var SB = 5.6658270330675836e-08\n",
      "Var SW = 0.3595861963592071\n",
      "Var lda = 2.029514747761427e-08\n",
      "\n",
      "\n",
      "\n",
      "Max lda = 0.0010426938771345422\n",
      "Max SB = 0.002506095605226997\n",
      "Min, Max SW = (0.350514, 8.063550)\n",
      "Elapsed time = 12 hour 28 min 47 sec\n"
     ]
    }
   ],
   "source": [
    "resize = 2\n",
    "lda = pd.read_csv('./caltech_resize%d_ratio0.100000_count300_gvn10_lda_log.txt'%(resize), sep='\\t', names=['timestamp', 'value'])\n",
    "sb = pd.read_csv('./caltech_resize%d_ratio0.100000_count300_gvn10_SB_log.txt'%(resize), sep='\\t', names=['timestamp', 'value'])\n",
    "sw = pd.read_csv('./caltech_resize%d_ratio0.100000_count300_gvn10_SW_log.txt'%(resize), sep='\\t', names=['timestamp', 'value'])\n",
    "\n",
    "min_len = min(lda.shape[0], sb.shape[0], sw.shape[0])\n",
    "print(min_len)\n",
    "start_idx = 0\n",
    "end_idx = 5000\n",
    "\n",
    "random_idx = np.random.choice(min_len, 5000, replace=False)\n",
    "print('Mean SB =',sb['value'][:end_idx].mean())\n",
    "print('Mean SW =',sw['value'][:end_idx].mean())\n",
    "print('Mean lda =',lda['value'][:end_idx].mean())\n",
    "print('\\n\\n')\n",
    "print('Var SB =',sb['value'][:end_idx].var())\n",
    "print('Var SW =',sw['value'][:end_idx].var())\n",
    "print('Var lda =',lda['value'][:end_idx].var())\n",
    "print('\\n\\n')\n",
    "\n",
    "print('Max lda =',lda['value'][:end_idx].max())\n",
    "print('Max SB =',sb['value'][:end_idx].max())\n",
    "print('Min, Max SW = (%.6f, %.6f)' % (sw['value'][:end_idx].min(), sw['value'][:end_idx].max()))\n",
    "\n",
    "t_tuple1 = time.strptime(sb['timestamp'][0][:-2].split('.')[0], '%Y-%m-%d %H:%M:%S')\n",
    "t_tuple2 = time.strptime(sb['timestamp'][5000][:-2].split('.')[0], '%Y-%m-%d %H:%M:%S')\n",
    "time1 = time.mktime(t_tuple1)\n",
    "time2 = time.mktime(t_tuple2)\n",
    "\n",
    "ctime = time2 - time1\n",
    "print('Elapsed time = %d hour %d min %d sec' % (ctime // 3600, (ctime % 3600) // 60, ctime % 60))"
   ]
  },
  {
   "cell_type": "markdown",
   "metadata": {},
   "source": [
    "### resize 4"
   ]
  },
  {
   "cell_type": "code",
   "execution_count": 4,
   "metadata": {},
   "outputs": [
    {
     "name": "stdout",
     "output_type": "stream",
     "text": [
      "6105\n",
      "Mean SB = 0.0001555610810403904\n",
      "Mean SW = 1.0437107904340623\n",
      "Mean lda = 0.00012874015873389408\n",
      "\n",
      "\n",
      "\n",
      "Var SB = 5.75178313966271e-08\n",
      "Var SW = 0.39264032191428994\n",
      "Var lda = 2.1571210552042337e-08\n",
      "\n",
      "\n",
      "\n",
      "Max lda = 0.0012237367487195506\n",
      "Max SB = 0.003368946008734093\n",
      "Min, Max SW = (0.302015, 6.450813)\n",
      "Elapsed time = 2 hour 12 min 15 sec\n"
     ]
    }
   ],
   "source": [
    "resize = 4\n",
    "lda = pd.read_csv('./caltech_resize%d_ratio0.100000_count300_gvn10_lda_log.txt'%(resize), sep='\\t', names=['timestamp', 'value'])\n",
    "sb = pd.read_csv('./caltech_resize%d_ratio0.100000_count300_gvn10_SB_log.txt'%(resize), sep='\\t', names=['timestamp', 'value'])\n",
    "sw = pd.read_csv('./caltech_resize%d_ratio0.100000_count300_gvn10_SW_log.txt'%(resize), sep='\\t', names=['timestamp', 'value'])\n",
    "\n",
    "min_len = min(lda.shape[0], sb.shape[0], sw.shape[0])\n",
    "\n",
    "print(min_len)\n",
    "start_idx = 0\n",
    "end_idx = 5000\n",
    "\n",
    "random_idx = np.random.choice(min_len, 5000, replace=False)\n",
    "print('Mean SB =',sb['value'][:end_idx].mean())\n",
    "print('Mean SW =',sw['value'][:end_idx].mean())\n",
    "print('Mean lda =',lda['value'][:end_idx].mean())\n",
    "print('\\n\\n')\n",
    "print('Var SB =',sb['value'][:end_idx].var())\n",
    "print('Var SW =',sw['value'][:end_idx].var())\n",
    "print('Var lda =',lda['value'][:end_idx].var())\n",
    "print('\\n\\n')\n",
    "\n",
    "print('Max lda =',lda['value'][:end_idx].max())\n",
    "print('Max SB =',sb['value'][:end_idx].max())\n",
    "print('Min, Max SW = (%.6f, %.6f)' % (sw['value'][:end_idx].min(), sw['value'][:end_idx].max()))\n",
    "\n",
    "t_tuple1 = time.strptime(sb['timestamp'][0][:-2].split('.')[0], '%Y-%m-%d %H:%M:%S')\n",
    "t_tuple2 = time.strptime(sb['timestamp'][5000][:-2].split('.')[0], '%Y-%m-%d %H:%M:%S')\n",
    "time1 = time.mktime(t_tuple1)\n",
    "time2 = time.mktime(t_tuple2)\n",
    "\n",
    "ctime = time2 - time1\n",
    "print('Elapsed time = %d hour %d min %d sec' % (ctime // 3600, (ctime % 3600) // 60, ctime % 60))"
   ]
  },
  {
   "cell_type": "markdown",
   "metadata": {},
   "source": [
    "### resize 8"
   ]
  },
  {
   "cell_type": "code",
   "execution_count": 5,
   "metadata": {},
   "outputs": [
    {
     "name": "stdout",
     "output_type": "stream",
     "text": [
      "6308\n",
      "Mean SB = 0.0001630146129164507\n",
      "Mean SW = 1.0398742613969414\n",
      "Mean lda = 0.00013331126277673903\n",
      "\n",
      "\n",
      "\n",
      "Var SB = 6.319936746200655e-08\n",
      "Var SW = 0.3670535514405616\n",
      "Var lda = 2.1826600977552726e-08\n",
      "\n",
      "\n",
      "\n",
      "Max lda = 0.0008933229366204766\n",
      "Max SB = 0.003722477904713075\n",
      "Min, Max SW = (0.315621, 7.118770)\n",
      "Elapsed time = 0 hour 23 min 11 sec\n"
     ]
    }
   ],
   "source": [
    "#float 32로 계산한 결과 resize1,2,4 마찬가지로 float32로 계산함\n",
    "resize = 8\n",
    "lda = pd.read_csv('./caltech_resize%d_ratio0.100000_count300_gvn10_lda_log.txt'%(resize), sep='\\t', names=['timestamp', 'value'])\n",
    "sb = pd.read_csv('./caltech_resize%d_ratio0.100000_count300_gvn10_SB_log.txt'%(resize), sep='\\t', names=['timestamp', 'value'])\n",
    "sw = pd.read_csv('./caltech_resize%d_ratio0.100000_count300_gvn10_SW_log.txt'%(resize), sep='\\t', names=['timestamp', 'value'])\n",
    "\n",
    "min_len = min(lda.shape[0], sb.shape[0], sw.shape[0])\n",
    "print(min_len)\n",
    "start_idx = 0\n",
    "end_idx = 5000\n",
    "\n",
    "random_idx = np.random.choice(min_len, 5000, replace=False)\n",
    "print('Mean SB =',sb['value'][:end_idx].mean())\n",
    "print('Mean SW =',sw['value'][:end_idx].mean())\n",
    "print('Mean lda =',lda['value'][:end_idx].mean())\n",
    "print('\\n\\n')\n",
    "print('Var SB =',sb['value'][:end_idx].var())\n",
    "print('Var SW =',sw['value'][:end_idx].var())\n",
    "print('Var lda =',lda['value'][:end_idx].var())\n",
    "print('\\n\\n')\n",
    "\n",
    "print('Max lda =',lda['value'][:end_idx].max())\n",
    "print('Max SB =',sb['value'][:end_idx].max())\n",
    "print('Min, Max SW = (%.6f, %.6f)' % (sw['value'][:end_idx].min(), sw['value'][:end_idx].max()))\n",
    "\n",
    "t_tuple1 = time.strptime(sb['timestamp'][0][:-2].split('.')[0], '%Y-%m-%d %H:%M:%S')\n",
    "t_tuple2 = time.strptime(sb['timestamp'][5000][:-2].split('.')[0], '%Y-%m-%d %H:%M:%S')\n",
    "time1 = time.mktime(t_tuple1)\n",
    "time2 = time.mktime(t_tuple2)\n",
    "\n",
    "ctime = time2 - time1\n",
    "print('Elapsed time = %d hour %d min %d sec' % (ctime // 3600, (ctime % 3600) // 60, ctime % 60))"
   ]
  },
  {
   "cell_type": "markdown",
   "metadata": {},
   "source": [
    "### resize8 - float64"
   ]
  },
  {
   "cell_type": "code",
   "execution_count": 4,
   "metadata": {},
   "outputs": [
    {
     "name": "stdout",
     "output_type": "stream",
     "text": [
      "5257\n",
      "Mean SB = 0.00015839210556841201\n",
      "Mean SW = 1.043752535108769\n",
      "Mean lda = 0.0001279613499152736\n",
      "Var SB = 6.71161619474591e-08\n",
      "Var SW = 0.40036381782976344\n",
      "Var lda = 2.1135621770318698e-08\n"
     ]
    }
   ],
   "source": [
    "# float64로 계산한 결과\n",
    "resize = 8\n",
    "lda = pd.read_csv('./caltech_resize%d_ratio0.100000_count300_gvn10_lda_log.txt'%(resize), sep='\\t', names=['timestamp', 'value'])\n",
    "sb = pd.read_csv('./caltech_resize%d_ratio0.100000_count300_gvn10_SB_log.txt'%(resize), sep='\\t', names=['timestamp', 'value'])\n",
    "sw = pd.read_csv('./caltech_resize%d_ratio0.100000_count300_gvn10_SW_log.txt'%(resize), sep='\\t', names=['timestamp', 'value'])\n",
    "\n",
    "min_len = min(lda.shape[0], sb.shape[0], sw.shape[0])\n",
    "print(min_len)\n",
    "start_idx = 0\n",
    "end_idx = 5000\n",
    "\n",
    "random_idx = np.random.choice(min_len, end_idx, replace=False)\n",
    "print('Mean SB =',sb['value'][:end_idx].mean())\n",
    "print('Mean SW =',sw['value'][:end_idx].mean())\n",
    "print('Mean lda =',lda['value'][:end_idx].mean())\n",
    "print('Var SB =',sb['value'][:end_idx].var())\n",
    "print('Var SW =',sw['value'][:end_idx].var())\n",
    "print('Var lda =',lda['value'][:end_idx].var())"
   ]
  },
  {
   "cell_type": "code",
   "execution_count": null,
   "metadata": {},
   "outputs": [],
   "source": []
  }
 ],
 "metadata": {
  "kernelspec": {
   "display_name": "Python 3",
   "language": "python",
   "name": "python3"
  },
  "language_info": {
   "codemirror_mode": {
    "name": "ipython",
    "version": 3
   },
   "file_extension": ".py",
   "mimetype": "text/x-python",
   "name": "python",
   "nbconvert_exporter": "python",
   "pygments_lexer": "ipython3",
   "version": "3.6.8"
  }
 },
 "nbformat": 4,
 "nbformat_minor": 2
}
